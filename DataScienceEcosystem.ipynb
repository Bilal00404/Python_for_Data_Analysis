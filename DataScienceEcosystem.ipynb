{
 "cells": [
  {
   "cell_type": "markdown",
   "id": "980ad479-b4d1-485e-9be6-0ecb465e0d98",
   "metadata": {},
   "source": [
    "# Data Science Tools and Ecosystem"
   ]
  },
  {
   "cell_type": "markdown",
   "id": "de8ca5bc-3101-4c7d-85e6-3819beaa0f8e",
   "metadata": {},
   "source": [
    "In this notebook, Data Science tools and Ecosystems are summarized"
   ]
  },
  {
   "cell_type": "markdown",
   "id": "361c3803-0dcc-4e54-aaf9-1ac1210d21e2",
   "metadata": {},
   "source": [
    "**Objectives:**\n",
    "* Popular Languages Data Sceintist use\n",
    "* Commonly used libraries by Data Scientist\n",
    "* Open source Data Science Tools\n",
    "* Arithmetic operations in Python"
   ]
  },
  {
   "cell_type": "markdown",
   "id": "6e19100b-aae6-4993-aac7-0bcd8c5affb1",
   "metadata": {},
   "source": [
    "Some of the popular languages Data Scientist use are:\n",
    "1. Python\n",
    "2. R Language\n",
    "3. Java\n",
    "4. C \n",
    "5. Scala\n",
    "6. Julia"
   ]
  },
  {
   "cell_type": "markdown",
   "id": "ee2cb9dc-b594-434b-8002-04db3d807123",
   "metadata": {},
   "source": [
    "Some of the commonly used libraries used by Data Scientist include:\n",
    "1. Pandas\n",
    "2. Numpy\n",
    "3. Sklearn\n",
    "4. Matplotlib\n",
    "5. ggplot"
   ]
  },
  {
   "cell_type": "markdown",
   "id": "6779adaa-ac84-4f90-92f4-0488eac3e50d",
   "metadata": {},
   "source": [
    "| Data Science Tools | \n",
    "| --- | \n",
    "| Jupyter Notebooks |\n",
    "| RStudio |\n",
    "| Apache Spark |\n",
    "| VS Code |"
   ]
  },
  {
   "cell_type": "markdown",
   "id": "bef9d85a-7df2-4c90-a992-d963a7042b47",
   "metadata": {
    "tags": []
   },
   "source": [
    "### Below are a few examples of evaluating arithmetic expressions in python"
   ]
  },
  {
   "cell_type": "code",
   "execution_count": 1,
   "id": "d1a6fa80-3a93-4228-9750-53fc5c3b807e",
   "metadata": {
    "tags": []
   },
   "outputs": [
    {
     "data": {
      "text/plain": [
       "17"
      ]
     },
     "execution_count": 1,
     "metadata": {},
     "output_type": "execute_result"
    }
   ],
   "source": [
    "(3*4)+5"
   ]
  },
  {
   "cell_type": "code",
   "execution_count": 2,
   "id": "42704dfd-e964-411b-ab9b-28781808edbf",
   "metadata": {
    "tags": []
   },
   "outputs": [
    {
     "data": {
      "text/plain": [
       "3.3333333333333335"
      ]
     },
     "execution_count": 2,
     "metadata": {},
     "output_type": "execute_result"
    }
   ],
   "source": [
    "# his will convert 200 minutes to hours by diving by 60\n",
    "min = 200\n",
    "hours = min/60\n",
    "hours"
   ]
  },
  {
   "cell_type": "markdown",
   "id": "17452370-ba9f-4377-bb99-fe1d22f1aedb",
   "metadata": {},
   "source": [
    "## Author\n",
    "Muhammad Bilal"
   ]
  },
  {
   "cell_type": "code",
   "execution_count": null,
   "id": "da0ed042-5b4a-44e7-b281-1c09c0671870",
   "metadata": {},
   "outputs": [],
   "source": []
  }
 ],
 "metadata": {
  "kernelspec": {
   "display_name": "Python",
   "language": "python",
   "name": "conda-env-python-py"
  },
  "language_info": {
   "codemirror_mode": {
    "name": "ipython",
    "version": 3
   },
   "file_extension": ".py",
   "mimetype": "text/x-python",
   "name": "python",
   "nbconvert_exporter": "python",
   "pygments_lexer": "ipython3",
   "version": "3.7.12"
  }
 },
 "nbformat": 4,
 "nbformat_minor": 5
}
